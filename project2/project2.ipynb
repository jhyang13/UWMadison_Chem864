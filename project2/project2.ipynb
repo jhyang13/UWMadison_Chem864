{
 "cells": [
  {
   "cell_type": "markdown",
   "metadata": {},
   "source": [
    "### Kinetic Analysis of Alanine Dipeptide Simulation Datasets using VAMPnets and MSMs"
   ]
  },
  {
   "cell_type": "code",
   "execution_count": 4,
   "metadata": {},
   "outputs": [],
   "source": [
    "# Import dependencies\n",
    "import numpy as np\n",
    "import matplotlib.pyplot as plt\n",
    "import os\n",
    "\n",
    "import mdtraj as md\n",
    "from msmbuilder.featurizer import AtomPairsFeaturizer\n",
    "from msmbuilder.cluster import KCenters\n",
    "from msmbuilder.msm import MarkovStateModel\n",
    "\n",
    "from sklearn.decomposition import PCA\n",
    "from scipy.linalg import eigh"
   ]
  },
  {
   "cell_type": "markdown",
   "metadata": {},
   "source": [
    "### Step 1 of MSM and VAMPnets: Generate Features\n",
    "\n",
    "<img src=\"fig/alanine_dipeptide.png\" width=\"500\" align=\"center\"/>"
   ]
  },
  {
   "cell_type": "code",
   "execution_count": 5,
   "metadata": {},
   "outputs": [
    {
     "name": "stdout",
     "output_type": "stream",
     "text": [
      "Features: 100\n"
     ]
    }
   ],
   "source": [
    "# Initialize the AtomPairsFeaturizer with atom pairs loaded from the 'ala2_atom_pairs' file\n",
    "pairs_feat = AtomPairsFeaturizer(np.loadtxt(\"project2-md-dataset/ala2-xtc-1ps/ala2_atom_pairs\"))\n",
    "\n",
    "# Ensure the features directory exists\n",
    "os.makedirs(\"project2-md-dataset/features\", exist_ok=True)\n",
    "\n",
    "# Process each trajectory file for indices 0 to 9\n",
    "for i in range(10):\n",
    "    # Load the trajectory with mdtraj\n",
    "    traj = md.load(f\"project2-md-dataset/ala2-xtc-1ps/ala2-1ps-0{i}.xtc\", top=\"project2-md-dataset/ala2-xtc-1ps/ala2.pdb\")\n",
    "    # Transform the trajectory to features using the featurizer\n",
    "    features = pairs_feat.transform([traj])\n",
    "    # Save the features to a binary file in NumPy '.npy' format\n",
    "    np.save(f\"project2-md-dataset/features/ftraj_{i}\", features[0])\n",
    "\n",
    "# Repeat the process for indices 10 to 99\n",
    "for i in range(10, 100):\n",
    "    # Load the trajectory with mdtraj\n",
    "    traj = md.load(f\"project2-md-dataset/ala2-xtc-1ps/ala2-1ps-{i}.xtc\", top=\"project2-md-dataset/ala2-xtc-1ps/ala2.pdb\")\n",
    "    # Transform the trajectory to features using the featurizer\n",
    "    features = pairs_feat.transform([traj])\n",
    "    # Save the features to a binary file in NumPy '.npy' format\n",
    "    np.save(f\"project2-md-dataset/features/ftraj_{i}\", features[0])\n",
    "\n",
    "# Assuming that the features directory contains all the feature files saved in the previous steps\n",
    "feature_dir = \"project2-md-dataset/features\"\n",
    "feature_files = [os.path.join(feature_dir, f) for f in os.listdir(feature_dir) if f.startswith('ftraj_') and f.endswith('.npy')]\n",
    "\n",
    "# Load all the features into a list\n",
    "features = [np.load(f) for f in feature_files]\n",
    "print('Features:', len(features))"
   ]
  },
  {
   "cell_type": "markdown",
   "metadata": {},
   "source": [
    "### Step 2 of MSM: Generate TICA"
   ]
  },
  {
   "cell_type": "markdown",
   "metadata": {},
   "source": [
    "Autocorrelation Matrix $C_{00} = E_t [x_t x_t^T]$\n",
    "\n",
    "Cross-Correlation Matrix $C_{01} = E_{t+\\tau} [x_{t} x_{t+\\tau}^T]$\n",
    "\n",
    "Koopman Operator $K(\\tau) = C_{00}^{-1}C_{01}$\n",
    "\n",
    "**Objective of TICA**\n",
    "\n",
    "$(\\lambda, V) = \\text{eig}[K(\\tau)]$\n",
    "\n",
    "$\\chi_k(t) = \\sum \\Delta d_{(ij)}(t) \\cdot V_{(ij),k}$\n"
   ]
  },
  {
   "cell_type": "code",
   "execution_count": 6,
   "metadata": {},
   "outputs": [
    {
     "name": "stdout",
     "output_type": "stream",
     "text": [
      "Eigenvalues: [166.71749582  31.86559029  21.45451544]\n",
      "Eigenvectors: (45, 3)\n",
      "ttrajs: 100\n"
     ]
    }
   ],
   "source": [
    "\n",
    "def compute_covariance_matrices(features, lag_time):\n",
    "    \"\"\"\n",
    "    Compute the covariance and time-lagged covariance matrices.\n",
    "    \n",
    "    Parameters:\n",
    "    - features: The input features, typically a list of 2D arrays.\n",
    "    - lag_time: The lag time for the time-lagged covariance matrix.\n",
    "    \n",
    "    Returns:\n",
    "    - C_0: Covariance matrix at time t.\n",
    "    - C_tau: Time-lagged covariance matrix between t and t + tau.\n",
    "    \"\"\"\n",
    "    # Concatenate all features to compute overall covariance\n",
    "    concatenated_features = np.concatenate(features)\n",
    "    # Center the features\n",
    "    mean_features = np.mean(concatenated_features, axis=0)\n",
    "    concatenated_features -= mean_features\n",
    "    # Compute covariance matrix at time t\n",
    "    C_0 = np.cov(concatenated_features.T)\n",
    "    \n",
    "    # Compute time-lagged covariance matrix\n",
    "    concatenated_shifted_features = np.concatenate([f[lag_time:] for f in features])\n",
    "    concatenated_shifted_features -= mean_features  # ensure the mean is removed\n",
    "    C_tau = concatenated_features[:len(concatenated_shifted_features)].T @ concatenated_shifted_features / (len(concatenated_shifted_features) - 1)\n",
    "    \n",
    "    return C_0, C_tau\n",
    "\n",
    "def perform_tica(C_0, C_tau, n_components):\n",
    "    \"\"\"\n",
    "    Perform TICA given covariance matrices.\n",
    "    \n",
    "    Parameters:\n",
    "    - C_0: Covariance matrix at time t.\n",
    "    - C_tau: Time-lagged covariance matrix between t and t + tau.\n",
    "    - n_components: Number of TICs to return.\n",
    "    \n",
    "    Returns:\n",
    "    - eigenvalues: The top eigenvalues.\n",
    "    - eigenvectors: The top eigenvectors corresponding to TICs.\n",
    "    \"\"\"\n",
    "    # Solve the generalized eigenvalue problem\n",
    "    eigenvalues, eigenvectors = eigh(C_tau, C_0)\n",
    "    \n",
    "    # Sort by largest eigenvalues\n",
    "    idx = np.argsort(eigenvalues)[::-1]\n",
    "    eigenvalues = eigenvalues[idx]\n",
    "    eigenvectors = eigenvectors[:, idx]\n",
    "    \n",
    "    # Select the top components\n",
    "    eigenvalues = eigenvalues[:n_components]\n",
    "    eigenvectors = eigenvectors[:, :n_components]\n",
    "    \n",
    "    return eigenvalues, eigenvectors\n",
    "\n",
    "# Define lag time and number of components you want to keep\n",
    "lag_time = 1  # time steps 1ps\n",
    "n_components = 3  # Number of TICs\n",
    "\n",
    "# Assuming `features` is a list of arrays containing the pairwise distances of heavy atoms for each trajectory\n",
    "C_0, C_tau = compute_covariance_matrices(features, lag_time)\n",
    "eigenvalues, eigenvectors = perform_tica(C_0, C_tau, n_components)\n",
    "\n",
    "# Print the top eigenvalues and eigenvectors\n",
    "print('Eigenvalues:', eigenvalues)\n",
    "print('Eigenvectors:', eigenvectors.shape)\n",
    "\n",
    "# We now have the TICs, let's project the data onto the TIC space\n",
    "# First, recalculate the mean features for the transformation step\n",
    "mean_features = np.mean(np.concatenate(features), axis=0)\n",
    "\n",
    "# Transform the original features into the TIC space for all trajectories\n",
    "ttrajs = [(f - mean_features).dot(eigenvectors) for f in features]\n",
    "print('ttrajs:', len(ttrajs))"
   ]
  },
  {
   "cell_type": "markdown",
   "metadata": {},
   "source": [
    "### Step 3 of MSM: Generate a Micro State Model"
   ]
  },
  {
   "cell_type": "code",
   "execution_count": 7,
   "metadata": {},
   "outputs": [],
   "source": [
    "# Initialize the K-Centers clustering algorithm with the desired number of clusters\n",
    "kcenters = KCenters(n_clusters=400)\n",
    "\n",
    "# Fit the K-Centers model to the TICA trajectories\n",
    "kcenters.fit(ttrajs)\n",
    "\n",
    "# Transform the trajectories into discrete states\n",
    "ktrajs = kcenters.transform(ttrajs)\n",
    "\n",
    "# Define a function to save the cluster assignments to files\n",
    "def save_to_files(cluster_assignments, directory=\"project2-md-dataset/clusters\"):\n",
    "    # Ensure the directory exists\n",
    "    os.makedirs(directory, exist_ok=True)\n",
    "    \n",
    "    # Save each trajectory's cluster assignments to a separate file\n",
    "    for i, ktraj in enumerate(cluster_assignments):\n",
    "        np.save(os.path.join(directory, f\"ktraj_{i}\"), ktraj)\n",
    "\n",
    "# Call the function to save the cluster assignments to files\n",
    "save_to_files(ktrajs)\n"
   ]
  },
  {
   "cell_type": "markdown",
   "metadata": {},
   "source": [
    "### Step 4 of MSM: Build a Macro State Model\n"
   ]
  },
  {
   "cell_type": "code",
   "execution_count": 9,
   "metadata": {},
   "outputs": [
    {
     "ename": "AttributeError",
     "evalue": "module 'numpy' has no attribute 'int'.\n`np.int` was a deprecated alias for the builtin `int`. To avoid this error in existing code, use `int` by itself. Doing this will not modify any behavior and is safe. When replacing `np.int`, you may wish to use e.g. `np.int64` or `np.int32` to specify the precision. If you wish to review your current use, check the release note link for additional information.\nThe aliases was originally deprecated in NumPy 1.20; for more details and guidance see the original release note at:\n    https://numpy.org/devdocs/release/1.20.0-notes.html#deprecations",
     "output_type": "error",
     "traceback": [
      "\u001b[1;31m---------------------------------------------------------------------------\u001b[0m",
      "\u001b[1;31mAttributeError\u001b[0m                            Traceback (most recent call last)",
      "Cell \u001b[1;32mIn[9], line 6\u001b[0m\n\u001b[0;32m      4\u001b[0m \u001b[38;5;66;03m# Initialize the Markov State Model\u001b[39;00m\n\u001b[0;32m      5\u001b[0m msm \u001b[38;5;241m=\u001b[39m MarkovStateModel(lag_time\u001b[38;5;241m=\u001b[39m\u001b[38;5;241m1\u001b[39m)  \u001b[38;5;66;03m# lag_time 1ps\u001b[39;00m\n\u001b[1;32m----> 6\u001b[0m \u001b[43mmsm\u001b[49m\u001b[38;5;241;43m.\u001b[39;49m\u001b[43mfit\u001b[49m\u001b[43m(\u001b[49m\u001b[43mktrajs\u001b[49m\u001b[43m)\u001b[49m\n\u001b[0;32m      8\u001b[0m \u001b[38;5;66;03m# Print out the timescales to check for convergence\u001b[39;00m\n\u001b[0;32m      9\u001b[0m \u001b[38;5;28mprint\u001b[39m(msm\u001b[38;5;241m.\u001b[39mtimescales_)\n",
      "File \u001b[1;32mc:\\Users\\jhyan\\.conda\\envs\\chem\\lib\\site-packages\\msmbuilder\\msm\\msm.py:159\u001b[0m, in \u001b[0;36mMarkovStateModel.fit\u001b[1;34m(self, sequences, y)\u001b[0m\n\u001b[0;32m    138\u001b[0m \u001b[38;5;28;01mdef\u001b[39;00m \u001b[38;5;21mfit\u001b[39m(\u001b[38;5;28mself\u001b[39m, sequences, y\u001b[38;5;241m=\u001b[39m\u001b[38;5;28;01mNone\u001b[39;00m):\n\u001b[0;32m    139\u001b[0m \u001b[38;5;250m    \u001b[39m\u001b[38;5;124;03m\"\"\"Estimate model parameters.\u001b[39;00m\n\u001b[0;32m    140\u001b[0m \n\u001b[0;32m    141\u001b[0m \u001b[38;5;124;03m    Parameters\u001b[39;00m\n\u001b[1;32m   (...)\u001b[0m\n\u001b[0;32m    157\u001b[0m \u001b[38;5;124;03m    NaN or None.\u001b[39;00m\n\u001b[0;32m    158\u001b[0m \u001b[38;5;124;03m    \"\"\"\u001b[39;00m\n\u001b[1;32m--> 159\u001b[0m     \u001b[38;5;28;43mself\u001b[39;49m\u001b[38;5;241;43m.\u001b[39;49m\u001b[43m_build_counts\u001b[49m\u001b[43m(\u001b[49m\u001b[43msequences\u001b[49m\u001b[43m)\u001b[49m\n\u001b[0;32m    161\u001b[0m     \u001b[38;5;66;03m# use a dict like a switch statement: dispatch to different\u001b[39;00m\n\u001b[0;32m    162\u001b[0m     \u001b[38;5;66;03m# transition matrix estimators depending on the value of\u001b[39;00m\n\u001b[0;32m    163\u001b[0m     \u001b[38;5;66;03m# self.reversible_type\u001b[39;00m\n\u001b[0;32m    164\u001b[0m     fit_method_map \u001b[38;5;241m=\u001b[39m {\n\u001b[0;32m    165\u001b[0m         \u001b[38;5;124m'\u001b[39m\u001b[38;5;124mmle\u001b[39m\u001b[38;5;124m'\u001b[39m: \u001b[38;5;28mself\u001b[39m\u001b[38;5;241m.\u001b[39m_fit_mle,\n\u001b[0;32m    166\u001b[0m         \u001b[38;5;124m'\u001b[39m\u001b[38;5;124mtranspose\u001b[39m\u001b[38;5;124m'\u001b[39m: \u001b[38;5;28mself\u001b[39m\u001b[38;5;241m.\u001b[39m_fit_transpose,\n\u001b[0;32m    167\u001b[0m         \u001b[38;5;124m'\u001b[39m\u001b[38;5;124mnone\u001b[39m\u001b[38;5;124m'\u001b[39m: \u001b[38;5;28mself\u001b[39m\u001b[38;5;241m.\u001b[39m_fit_asymetric}\n",
      "File \u001b[1;32mc:\\Users\\jhyan\\.conda\\envs\\chem\\lib\\site-packages\\msmbuilder\\msm\\core.py:191\u001b[0m, in \u001b[0;36m_CountsMSMMixin._build_counts\u001b[1;34m(self, sequences, y)\u001b[0m\n\u001b[0;32m    188\u001b[0m \u001b[38;5;28;01mif\u001b[39;00m \u001b[38;5;28mint\u001b[39m(\u001b[38;5;28mself\u001b[39m\u001b[38;5;241m.\u001b[39mlag_time) \u001b[38;5;241m<\u001b[39m \u001b[38;5;241m1\u001b[39m:\n\u001b[0;32m    189\u001b[0m     \u001b[38;5;28;01mraise\u001b[39;00m \u001b[38;5;167;01mValueError\u001b[39;00m(\u001b[38;5;124m'\u001b[39m\u001b[38;5;124mInvalid lag_time: \u001b[39m\u001b[38;5;132;01m%s\u001b[39;00m\u001b[38;5;124m. \u001b[39m\u001b[38;5;130;01m\\\u001b[39;00m\n\u001b[0;32m    190\u001b[0m \u001b[38;5;124m    Lag_time must be >= 1\u001b[39m\u001b[38;5;124m'\u001b[39m \u001b[38;5;241m%\u001b[39m \u001b[38;5;28mself\u001b[39m\u001b[38;5;241m.\u001b[39mlag_time)\n\u001b[1;32m--> 191\u001b[0m raw_counts, mapping \u001b[38;5;241m=\u001b[39m \u001b[43m_transition_counts\u001b[49m\u001b[43m(\u001b[49m\n\u001b[0;32m    192\u001b[0m \u001b[43m        \u001b[49m\u001b[43msequences\u001b[49m\u001b[43m,\u001b[49m\u001b[43m \u001b[49m\u001b[38;5;28;43mint\u001b[39;49m\u001b[43m(\u001b[49m\u001b[38;5;28;43mself\u001b[39;49m\u001b[38;5;241;43m.\u001b[39;49m\u001b[43mlag_time\u001b[49m\u001b[43m)\u001b[49m\u001b[43m,\u001b[49m\n\u001b[0;32m    193\u001b[0m \u001b[43m        \u001b[49m\u001b[43msliding_window\u001b[49m\u001b[38;5;241;43m=\u001b[39;49m\u001b[38;5;28;43mself\u001b[39;49m\u001b[38;5;241;43m.\u001b[39;49m\u001b[43msliding_window\u001b[49m\u001b[43m)\u001b[49m\n\u001b[0;32m    195\u001b[0m \u001b[38;5;66;03m#step 2. Get the ergodic cutoff\u001b[39;00m\n\u001b[0;32m    196\u001b[0m ergodic_cutoff \u001b[38;5;241m=\u001b[39m \u001b[38;5;28mself\u001b[39m\u001b[38;5;241m.\u001b[39m_parse_ergodic_cutoff()\n",
      "File \u001b[1;32mc:\\Users\\jhyan\\.conda\\envs\\chem\\lib\\site-packages\\msmbuilder\\msm\\core.py:560\u001b[0m, in \u001b[0;36m_transition_counts\u001b[1;34m(sequences, lag_time, sliding_window)\u001b[0m\n\u001b[0;32m    555\u001b[0m mapping \u001b[38;5;241m=\u001b[39m \u001b[38;5;28mdict\u001b[39m(\u001b[38;5;28mzip\u001b[39m(classes, \u001b[38;5;28mrange\u001b[39m(n_states)))\n\u001b[0;32m    556\u001b[0m mapping_is_identity \u001b[38;5;241m=\u001b[39m (\u001b[38;5;129;01mnot\u001b[39;00m contains_nan\n\u001b[0;32m    557\u001b[0m                        \u001b[38;5;129;01mand\u001b[39;00m \u001b[38;5;129;01mnot\u001b[39;00m contains_none\n\u001b[0;32m    558\u001b[0m                        \u001b[38;5;129;01mand\u001b[39;00m classes\u001b[38;5;241m.\u001b[39mdtype\u001b[38;5;241m.\u001b[39mkind \u001b[38;5;241m==\u001b[39m \u001b[38;5;124m'\u001b[39m\u001b[38;5;124mi\u001b[39m\u001b[38;5;124m'\u001b[39m\n\u001b[0;32m    559\u001b[0m                        \u001b[38;5;129;01mand\u001b[39;00m np\u001b[38;5;241m.\u001b[39mall(classes \u001b[38;5;241m==\u001b[39m np\u001b[38;5;241m.\u001b[39marange(n_states)))\n\u001b[1;32m--> 560\u001b[0m mapping_fn \u001b[38;5;241m=\u001b[39m np\u001b[38;5;241m.\u001b[39mvectorize(mapping\u001b[38;5;241m.\u001b[39mget, otypes\u001b[38;5;241m=\u001b[39m[\u001b[43mnp\u001b[49m\u001b[38;5;241;43m.\u001b[39;49m\u001b[43mint\u001b[49m])\n\u001b[0;32m    561\u001b[0m none_to_nan \u001b[38;5;241m=\u001b[39m np\u001b[38;5;241m.\u001b[39mvectorize(\u001b[38;5;28;01mlambda\u001b[39;00m x: np\u001b[38;5;241m.\u001b[39mnan \u001b[38;5;28;01mif\u001b[39;00m x \u001b[38;5;129;01mis\u001b[39;00m \u001b[38;5;28;01mNone\u001b[39;00m \u001b[38;5;28;01melse\u001b[39;00m x,\n\u001b[0;32m    562\u001b[0m                            otypes\u001b[38;5;241m=\u001b[39m[np\u001b[38;5;241m.\u001b[39mfloat])\n\u001b[0;32m    564\u001b[0m counts \u001b[38;5;241m=\u001b[39m np\u001b[38;5;241m.\u001b[39mzeros((n_states, n_states), dtype\u001b[38;5;241m=\u001b[39m\u001b[38;5;28mfloat\u001b[39m)\n",
      "File \u001b[1;32mc:\\Users\\jhyan\\.conda\\envs\\chem\\lib\\site-packages\\numpy\\__init__.py:305\u001b[0m, in \u001b[0;36m__getattr__\u001b[1;34m(attr)\u001b[0m\n\u001b[0;32m    300\u001b[0m     warnings\u001b[38;5;241m.\u001b[39mwarn(\n\u001b[0;32m    301\u001b[0m         \u001b[38;5;124mf\u001b[39m\u001b[38;5;124m\"\u001b[39m\u001b[38;5;124mIn the future `np.\u001b[39m\u001b[38;5;132;01m{\u001b[39;00mattr\u001b[38;5;132;01m}\u001b[39;00m\u001b[38;5;124m` will be defined as the \u001b[39m\u001b[38;5;124m\"\u001b[39m\n\u001b[0;32m    302\u001b[0m         \u001b[38;5;124m\"\u001b[39m\u001b[38;5;124mcorresponding NumPy scalar.\u001b[39m\u001b[38;5;124m\"\u001b[39m, \u001b[38;5;167;01mFutureWarning\u001b[39;00m, stacklevel\u001b[38;5;241m=\u001b[39m\u001b[38;5;241m2\u001b[39m)\n\u001b[0;32m    304\u001b[0m \u001b[38;5;28;01mif\u001b[39;00m attr \u001b[38;5;129;01min\u001b[39;00m __former_attrs__:\n\u001b[1;32m--> 305\u001b[0m     \u001b[38;5;28;01mraise\u001b[39;00m \u001b[38;5;167;01mAttributeError\u001b[39;00m(__former_attrs__[attr])\n\u001b[0;32m    307\u001b[0m \u001b[38;5;66;03m# Importing Tester requires importing all of UnitTest which is not a\u001b[39;00m\n\u001b[0;32m    308\u001b[0m \u001b[38;5;66;03m# cheap import Since it is mainly used in test suits, we lazy import it\u001b[39;00m\n\u001b[0;32m    309\u001b[0m \u001b[38;5;66;03m# here to save on the order of 10 ms of import time for most users\u001b[39;00m\n\u001b[0;32m    310\u001b[0m \u001b[38;5;66;03m#\u001b[39;00m\n\u001b[0;32m    311\u001b[0m \u001b[38;5;66;03m# The previous way Tester was imported also had a side effect of adding\u001b[39;00m\n\u001b[0;32m    312\u001b[0m \u001b[38;5;66;03m# the full `numpy.testing` namespace\u001b[39;00m\n\u001b[0;32m    313\u001b[0m \u001b[38;5;28;01mif\u001b[39;00m attr \u001b[38;5;241m==\u001b[39m \u001b[38;5;124m'\u001b[39m\u001b[38;5;124mtesting\u001b[39m\u001b[38;5;124m'\u001b[39m:\n",
      "\u001b[1;31mAttributeError\u001b[0m: module 'numpy' has no attribute 'int'.\n`np.int` was a deprecated alias for the builtin `int`. To avoid this error in existing code, use `int` by itself. Doing this will not modify any behavior and is safe. When replacing `np.int`, you may wish to use e.g. `np.int64` or `np.int32` to specify the precision. If you wish to review your current use, check the release note link for additional information.\nThe aliases was originally deprecated in NumPy 1.20; for more details and guidance see the original release note at:\n    https://numpy.org/devdocs/release/1.20.0-notes.html#deprecations"
     ]
    }
   ],
   "source": [
    "ktrajs_list = [np.load(f'project2-md-dataset/clusters/ktraj_{i}.npy') for i in range(100)]\n",
    "ktrajs_array = np.array(ktrajs_list, dtype=int)\n",
    "\n",
    "# Initialize the Markov State Model\n",
    "msm = MarkovStateModel(lag_time=1)  # lag_time 1ps\n",
    "msm.fit(ktrajs)\n",
    "\n",
    "# Print out the timescales to check for convergence\n",
    "print(msm.timescales_)\n"
   ]
  },
  {
   "cell_type": "code",
   "execution_count": null,
   "metadata": {},
   "outputs": [],
   "source": [
    "# Plot the implied timescales\n",
    "n_timescales = 5  # Or however many you wish to plot\n",
    "timescales = msm.timescales_[:n_timescales]\n",
    "plt.figure(figsize=(10, 4))\n",
    "plt.plot(timescales, 'o-')\n",
    "plt.title('Implied timescales')\n",
    "plt.xlabel('Timescale index')\n",
    "plt.ylabel('Timescale (lag units)')\n",
    "plt.yscale('log')\n",
    "plt.show()\n",
    "\n",
    "# Plot the stationary distribution\n",
    "plt.figure(figsize=(10, 4))\n",
    "plt.bar(range(msm.n_states_), msm.populations_)\n",
    "plt.title('Stationary Distribution')\n",
    "plt.xlabel('State')\n",
    "plt.ylabel('Population')\n",
    "plt.show()"
   ]
  }
 ],
 "metadata": {
  "kernelspec": {
   "display_name": "HPC_Compile",
   "language": "python",
   "name": "python3"
  },
  "language_info": {
   "codemirror_mode": {
    "name": "ipython",
    "version": 3
   },
   "file_extension": ".py",
   "mimetype": "text/x-python",
   "name": "python",
   "nbconvert_exporter": "python",
   "pygments_lexer": "ipython3",
   "version": "3.8.18"
  }
 },
 "nbformat": 4,
 "nbformat_minor": 2
}
