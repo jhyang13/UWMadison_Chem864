{
 "cells": [
  {
   "cell_type": "markdown",
   "metadata": {},
   "source": [
    "### Kinetic Analysis of Alanine Dipeptide Simulation Datasets using VAMPnets and MSMs"
   ]
  },
  {
   "cell_type": "code",
   "execution_count": 12,
   "metadata": {},
   "outputs": [],
   "source": [
    "# Import dependencies\n",
    "import numpy as np\n",
    "import matplotlib.pyplot as plt\n",
    "import scipy\n",
    "import pandas as pd\n",
    "import seaborn as sns\n",
    "import os\n",
    "\n",
    "import mdtraj as md\n",
    "from msmbuilder.featurizer import AtomPairsFeaturizer\n",
    "\n",
    "from sklearn.decomposition import PCA\n",
    "from scipy.linalg import eigh"
   ]
  },
  {
   "cell_type": "markdown",
   "metadata": {},
   "source": [
    "### Step 1 of MSM and VAMPnets: Generate Features\n",
    "\n",
    "<img src=\"fig/alanine_dipeptide.png\" width=\"500\" align=\"center\"/>"
   ]
  },
  {
   "cell_type": "code",
   "execution_count": 13,
   "metadata": {},
   "outputs": [],
   "source": [
    "# Initialize the AtomPairsFeaturizer with atom pairs loaded from the 'ala2_atom_pairs' file\n",
    "pairs_feat = AtomPairsFeaturizer(np.loadtxt(\"project2-md-dataset/ala2-xtc-1ps/ala2_atom_pairs\"))\n",
    "\n",
    "# Ensure the features directory exists\n",
    "os.makedirs(\"project2-md-dataset/features\", exist_ok=True)\n",
    "\n",
    "# Process each trajectory file for indices 0 to 9\n",
    "for i in range(10):\n",
    "    # Load the trajectory with mdtraj\n",
    "    traj = md.load(f\"project2-md-dataset/ala2-xtc-1ps/ala2-1ps-0{i}.xtc\", top=\"project2-md-dataset/ala2-xtc-1ps/ala2.pdb\")\n",
    "    # Transform the trajectory to features using the featurizer\n",
    "    features = pairs_feat.transform([traj])\n",
    "    # Save the features to a binary file in NumPy '.npy' format\n",
    "    np.save(f\"project2-md-dataset/features/ftraj_{i}\", features[0])\n",
    "\n",
    "# Repeat the process for indices 10 to 99\n",
    "for i in range(10, 100):\n",
    "    # Load the trajectory with mdtraj\n",
    "    traj = md.load(f\"project2-md-dataset/ala2-xtc-1ps/ala2-1ps-{i}.xtc\", top=\"project2-md-dataset/ala2-xtc-1ps/ala2.pdb\")\n",
    "    # Transform the trajectory to features using the featurizer\n",
    "    features = pairs_feat.transform([traj])\n",
    "    # Save the features to a binary file in NumPy '.npy' format\n",
    "    np.save(f\"project2-md-dataset/features/ftraj_{i}\", features[0])"
   ]
  },
  {
   "cell_type": "markdown",
   "metadata": {},
   "source": [
    "### Step 2 of MSM: Generate TICA"
   ]
  },
  {
   "cell_type": "code",
   "execution_count": 15,
   "metadata": {},
   "outputs": [
    {
     "name": "stdout",
     "output_type": "stream",
     "text": [
      "Top eigenvalues: [10.25878265  2.35384048  1.93254931]\n"
     ]
    }
   ],
   "source": [
    "\n",
    "def compute_covariance_matrices(features, lag_time):\n",
    "    \"\"\"\n",
    "    Compute the covariance and time-lagged covariance matrices.\n",
    "    \n",
    "    Parameters:\n",
    "    - features: The input features, typically a list of 2D arrays.\n",
    "    - lag_time: The lag time for the time-lagged covariance matrix.\n",
    "    \n",
    "    Returns:\n",
    "    - C_0: Covariance matrix at time t.\n",
    "    - C_tau: Time-lagged covariance matrix between t and t + tau.\n",
    "    \"\"\"\n",
    "    # Concatenate all features to compute overall covariance\n",
    "    concatenated_features = np.concatenate(features)\n",
    "    # Center the features\n",
    "    mean_features = np.mean(concatenated_features, axis=0)\n",
    "    concatenated_features -= mean_features\n",
    "    # Compute covariance matrix at time t\n",
    "    C_0 = np.cov(concatenated_features.T)\n",
    "    \n",
    "    # Compute time-lagged covariance matrix\n",
    "    concatenated_shifted_features = np.concatenate([f[lag_time:] for f in features])\n",
    "    concatenated_shifted_features -= mean_features  # ensure the mean is removed\n",
    "    C_tau = concatenated_features[:len(concatenated_shifted_features)].T @ concatenated_shifted_features / (len(concatenated_shifted_features) - 1)\n",
    "    \n",
    "    return C_0, C_tau\n",
    "\n",
    "def perform_tica(C_0, C_tau, n_components):\n",
    "    \"\"\"\n",
    "    Perform TICA given covariance matrices.\n",
    "    \n",
    "    Parameters:\n",
    "    - C_0: Covariance matrix at time t.\n",
    "    - C_tau: Time-lagged covariance matrix between t and t + tau.\n",
    "    - n_components: Number of TICs to return.\n",
    "    \n",
    "    Returns:\n",
    "    - eigenvalues: The top eigenvalues.\n",
    "    - eigenvectors: The top eigenvectors corresponding to TICs.\n",
    "    \"\"\"\n",
    "    # Solve the generalized eigenvalue problem\n",
    "    eigenvalues, eigenvectors = eigh(C_tau, C_0)\n",
    "    \n",
    "    # Sort by largest eigenvalues\n",
    "    idx = np.argsort(eigenvalues)[::-1]\n",
    "    eigenvalues = eigenvalues[idx]\n",
    "    eigenvectors = eigenvectors[:, idx]\n",
    "    \n",
    "    # Select the top components\n",
    "    eigenvalues = eigenvalues[:n_components]\n",
    "    eigenvectors = eigenvectors[:, :n_components]\n",
    "    \n",
    "    return eigenvalues, eigenvectors\n",
    "\n",
    "# Define your lag time and the number of components you want to keep\n",
    "lag_time = 10  # This could be in the units of your time steps, for example, 1ps\n",
    "n_components = 3  # Number of TICs\n",
    "\n",
    "# Assuming `features` is a list of arrays containing the pairwise distances of heavy atoms for each trajectory\n",
    "C_0, C_tau = compute_covariance_matrices(features, lag_time)\n",
    "eigenvalues, eigenvectors = perform_tica(C_0, C_tau, n_components)\n",
    "\n",
    "# Print the top eigenvalues\n",
    "print('Top eigenvalues:', eigenvalues)\n",
    "\n",
    "# We now have the TICs, let's project the data onto the TIC space\n",
    "# First, recalculate the mean features for the transformation step\n",
    "mean_features = np.mean(np.concatenate(features), axis=0)\n",
    "\n",
    "# Transform the original features into the TIC space for all trajectories\n",
    "tic_features_list = [(f - mean_features).dot(eigenvectors) for f in features]\n"
   ]
  },
  {
   "cell_type": "code",
   "execution_count": null,
   "metadata": {},
   "outputs": [],
   "source": []
  }
 ],
 "metadata": {
  "kernelspec": {
   "display_name": "HPC_Compile",
   "language": "python",
   "name": "python3"
  },
  "language_info": {
   "codemirror_mode": {
    "name": "ipython",
    "version": 3
   },
   "file_extension": ".py",
   "mimetype": "text/x-python",
   "name": "python",
   "nbconvert_exporter": "python",
   "pygments_lexer": "ipython3",
   "version": "3.8.18"
  }
 },
 "nbformat": 4,
 "nbformat_minor": 2
}
